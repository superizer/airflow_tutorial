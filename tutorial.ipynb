{
 "cells": [
  {
   "cell_type": "markdown",
   "metadata": {},
   "source": [
    "Code that goes along with the Airflow tutorial located at:\n",
    "https://github.com/airbnb/airflow/blob/master/airflow/example_dags/tutorial.py"
   ]
  },
  {
   "cell_type": "code",
   "execution_count": 1,
   "metadata": {},
   "outputs": [
    {
     "name": "stdout",
     "output_type": "stream",
     "text": [
      "[2017-09-18 09:59:12,696] {__init__.py:57} INFO - Using executor SequentialExecutor\n"
     ]
    }
   ],
   "source": [
    "from airflow import DAG\n",
    "from airflow.operators.bash_operator import BashOperator\n",
    "from datetime import datetime, timedelta\n",
    "\n",
    "\n",
    "default_args = {\n",
    "    'owner': 'airflow',\n",
    "    'depends_on_past': False,\n",
    "    'start_date': datetime(2015, 6, 1),\n",
    "    'email': ['airflow@airflow.com'],\n",
    "    'email_on_failure': False,\n",
    "    'email_on_retry': False,\n",
    "    'retries': 1,\n",
    "    'retry_delay': timedelta(minutes=5),\n",
    "    # 'queue': 'bash_queue',\n",
    "    # 'pool': 'backfill',\n",
    "    # 'priority_weight': 10,\n",
    "    # 'end_date': datetime(2016, 1, 1),\n",
    "}\n",
    "\n",
    "dag = DAG('tutorial', default_args=default_args)\n",
    "\n",
    "# t1, t2 and t3 are examples of tasks created by instantiating operators\n",
    "t1 = BashOperator(\n",
    "    task_id='print_date',\n",
    "    bash_command='date',\n",
    "    dag=dag)\n",
    "\n",
    "t2 = BashOperator(\n",
    "    task_id='sleep',\n",
    "    bash_command='sleep 5',\n",
    "    retries=3,\n",
    "    dag=dag)\n",
    "\n",
    "templated_command = \"\"\"\n",
    "    {% for i in range(5) %}\n",
    "        echo \"{{ ds }}\"\n",
    "        echo \"{{ macros.ds_add(ds, 7)}}\"\n",
    "        echo \"{{ params.my_param }}\"\n",
    "    {% endfor %}\n",
    "\"\"\"\n",
    "\n",
    "t3 = BashOperator(\n",
    "    task_id='templated',\n",
    "    bash_command=templated_command,\n",
    "    params={'my_param': 'Parameter I passed in'},\n",
    "    dag=dag)\n",
    "\n",
    "t2.set_upstream(t1)\n",
    "t3.set_upstream(t1)"
   ]
  },
  {
   "cell_type": "code",
   "execution_count": 4,
   "metadata": {},
   "outputs": [
    {
     "name": "stdout",
     "output_type": "stream",
     "text": [
      "[2017-09-18 10:07:20,223] {__init__.py:57} INFO - Using executor SequentialExecutor\n",
      "[2017-09-18 10:07:20,777] {models.py:167} INFO - Filling up the DagBag from /Users/superizer/airflow/dags\n",
      "\n",
      "\n",
      "-------------------------------------------------------------------\n",
      "DAGS\n",
      "-------------------------------------------------------------------\n",
      "example_bash_operator\n",
      "example_branch_dop_operator_v3\n",
      "example_branch_operator\n",
      "example_http_operator\n",
      "example_passing_params_via_test_command\n",
      "example_python_operator\n",
      "example_short_circuit_operator\n",
      "example_skip_dag\n",
      "example_subdag_operator\n",
      "example_subdag_operator.section-1\n",
      "example_subdag_operator.section-2\n",
      "example_trigger_controller_dag\n",
      "example_trigger_target_dag\n",
      "example_xcom\n",
      "latest_only\n",
      "latest_only_with_trigger\n",
      "test_utils\n",
      "tutorial\n",
      "\n"
     ]
    }
   ],
   "source": [
    "# print the list of active DAGs\n",
    "\n",
    "!/Users/superizer/anaconda/envs/tensorflow/bin/airflow list_dags"
   ]
  },
  {
   "cell_type": "code",
   "execution_count": 5,
   "metadata": {},
   "outputs": [
    {
     "name": "stdout",
     "output_type": "stream",
     "text": [
      "[2017-09-18 10:09:58,631] {__init__.py:57} INFO - Using executor SequentialExecutor\n",
      "[2017-09-18 10:09:59,183] {models.py:167} INFO - Filling up the DagBag from /Users/superizer/airflow/dags\n",
      "print_date\n",
      "sleep\n",
      "templated\n"
     ]
    }
   ],
   "source": [
    "# prints the list of tasks the \"tutorial\" dag_id\n",
    "\n",
    "!/Users/superizer/anaconda/envs/tensorflow/bin/airflow list_tasks tutorial"
   ]
  },
  {
   "cell_type": "code",
   "execution_count": 6,
   "metadata": {},
   "outputs": [
    {
     "name": "stdout",
     "output_type": "stream",
     "text": [
      "[2017-09-18 10:10:15,518] {__init__.py:57} INFO - Using executor SequentialExecutor\n",
      "[2017-09-18 10:10:16,054] {models.py:167} INFO - Filling up the DagBag from /Users/superizer/airflow/dags\n",
      "<Task(BashOperator): sleep>\n",
      "    <Task(BashOperator): print_date>\n",
      "<Task(BashOperator): templated>\n",
      "    <Task(BashOperator): print_date>\n"
     ]
    }
   ],
   "source": [
    "# prints the hierarchy of tasks in the tutorial DAG\n",
    "\n",
    "!/Users/superizer/anaconda/envs/tensorflow/bin/airflow list_tasks tutorial --tree"
   ]
  },
  {
   "cell_type": "code",
   "execution_count": 10,
   "metadata": {},
   "outputs": [
    {
     "name": "stdout",
     "output_type": "stream",
     "text": [
      "[2017-09-18 11:19:22,920] {__init__.py:57} INFO - Using executor SequentialExecutor\n",
      "[2017-09-18 11:19:23,483] {models.py:167} INFO - Filling up the DagBag from /Users/superizer/airflow/dags\n",
      "Traceback (most recent call last):\n",
      "  File \"/Users/superizer/anaconda/envs/tensorflow/lib/python3.6/site-packages/sqlalchemy/engine/base.py\", line 1182, in _execute_context\n",
      "    context)\n",
      "  File \"/Users/superizer/anaconda/envs/tensorflow/lib/python3.6/site-packages/sqlalchemy/engine/default.py\", line 470, in do_execute\n",
      "    cursor.execute(statement, parameters)\n",
      "sqlite3.OperationalError: no such table: task_instance\n",
      "\n",
      "The above exception was the direct cause of the following exception:\n",
      "\n",
      "Traceback (most recent call last):\n",
      "  File \"/Users/superizer/anaconda/envs/tensorflow/bin/airflow\", line 28, in <module>\n",
      "    args.func(args)\n",
      "  File \"/Users/superizer/anaconda/envs/tensorflow/lib/python3.6/site-packages/airflow/bin/cli.py\", line 585, in test\n",
      "    ti.run(ignore_task_deps=True, ignore_ti_state=True, test_mode=True)\n",
      "  File \"/Users/superizer/anaconda/envs/tensorflow/lib/python3.6/site-packages/airflow/utils/db.py\", line 53, in wrapper\n",
      "    result = func(*args, **kwargs)\n",
      "  File \"/Users/superizer/anaconda/envs/tensorflow/lib/python3.6/site-packages/airflow/models.py\", line 1249, in run\n",
      "    self.refresh_from_db(session=session, lock_for_update=True)\n",
      "  File \"/Users/superizer/anaconda/envs/tensorflow/lib/python3.6/site-packages/airflow/utils/db.py\", line 53, in wrapper\n",
      "    result = func(*args, **kwargs)\n",
      "  File \"/Users/superizer/anaconda/envs/tensorflow/lib/python3.6/site-packages/airflow/models.py\", line 991, in refresh_from_db\n",
      "    ti = qry.with_for_update().first()\n",
      "  File \"/Users/superizer/anaconda/envs/tensorflow/lib/python3.6/site-packages/sqlalchemy/orm/query.py\", line 2755, in first\n",
      "    ret = list(self[0:1])\n",
      "  File \"/Users/superizer/anaconda/envs/tensorflow/lib/python3.6/site-packages/sqlalchemy/orm/query.py\", line 2547, in __getitem__\n",
      "    return list(res)\n",
      "  File \"/Users/superizer/anaconda/envs/tensorflow/lib/python3.6/site-packages/sqlalchemy/orm/query.py\", line 2855, in __iter__\n",
      "    return self._execute_and_instances(context)\n",
      "  File \"/Users/superizer/anaconda/envs/tensorflow/lib/python3.6/site-packages/sqlalchemy/orm/query.py\", line 2878, in _execute_and_instances\n",
      "    result = conn.execute(querycontext.statement, self._params)\n",
      "  File \"/Users/superizer/anaconda/envs/tensorflow/lib/python3.6/site-packages/sqlalchemy/engine/base.py\", line 945, in execute\n",
      "    return meth(self, multiparams, params)\n",
      "  File \"/Users/superizer/anaconda/envs/tensorflow/lib/python3.6/site-packages/sqlalchemy/sql/elements.py\", line 263, in _execute_on_connection\n",
      "    return connection._execute_clauseelement(self, multiparams, params)\n",
      "  File \"/Users/superizer/anaconda/envs/tensorflow/lib/python3.6/site-packages/sqlalchemy/engine/base.py\", line 1053, in _execute_clauseelement\n",
      "    compiled_sql, distilled_params\n",
      "  File \"/Users/superizer/anaconda/envs/tensorflow/lib/python3.6/site-packages/sqlalchemy/engine/base.py\", line 1189, in _execute_context\n",
      "    context)\n",
      "  File \"/Users/superizer/anaconda/envs/tensorflow/lib/python3.6/site-packages/sqlalchemy/engine/base.py\", line 1402, in _handle_dbapi_exception\n",
      "    exc_info\n",
      "  File \"/Users/superizer/anaconda/envs/tensorflow/lib/python3.6/site-packages/sqlalchemy/util/compat.py\", line 203, in raise_from_cause\n",
      "    reraise(type(exception), exception, tb=exc_tb, cause=cause)\n",
      "  File \"/Users/superizer/anaconda/envs/tensorflow/lib/python3.6/site-packages/sqlalchemy/util/compat.py\", line 186, in reraise\n",
      "    raise value.with_traceback(tb)\n",
      "  File \"/Users/superizer/anaconda/envs/tensorflow/lib/python3.6/site-packages/sqlalchemy/engine/base.py\", line 1182, in _execute_context\n",
      "    context)\n",
      "  File \"/Users/superizer/anaconda/envs/tensorflow/lib/python3.6/site-packages/sqlalchemy/engine/default.py\", line 470, in do_execute\n",
      "    cursor.execute(statement, parameters)\n",
      "sqlalchemy.exc.OperationalError: (sqlite3.OperationalError) no such table: task_instance [SQL: 'SELECT task_instance.task_id AS task_instance_task_id, task_instance.dag_id AS task_instance_dag_id, task_instance.execution_date AS task_instance_execution_date, task_instance.start_date AS task_instance_start_date, task_instance.end_date AS task_instance_end_date, task_instance.duration AS task_instance_duration, task_instance.state AS task_instance_state, task_instance.try_number AS task_instance_try_number, task_instance.hostname AS task_instance_hostname, task_instance.unixname AS task_instance_unixname, task_instance.job_id AS task_instance_job_id, task_instance.pool AS task_instance_pool, task_instance.queue AS task_instance_queue, task_instance.priority_weight AS task_instance_priority_weight, task_instance.operator AS task_instance_operator, task_instance.queued_dttm AS task_instance_queued_dttm, task_instance.pid AS task_instance_pid \\nFROM task_instance \\nWHERE task_instance.dag_id = ? AND task_instance.task_id = ? AND task_instance.execution_date = ?\\n LIMIT ? OFFSET ?'] [parameters: ('tutorial', 'print_date', '2017-09-18 00:00:00.000000', 1, 0)]\n"
     ]
    }
   ],
   "source": [
    "# command layout: command subcommand dag_id task_id date\n",
    "\n",
    "# testing print_date\n",
    "!/Users/superizer/anaconda/envs/tensorflow/bin/airflow test tutorial print_date 2017-09-18"
   ]
  },
  {
   "cell_type": "code",
   "execution_count": 9,
   "metadata": {},
   "outputs": [
    {
     "name": "stdout",
     "output_type": "stream",
     "text": [
      "date: illegal time format\r\n",
      "usage: date [-jnRu] [-d dst] [-r seconds] [-t west] [-v[+|-]val[ymwdHMS]] ... \r\n",
      "            [-f fmt date | [[[mm]dd]HH]MM[[cc]yy][.ss]] [+format]\r\n"
     ]
    }
   ],
   "source": [
    "!date 2015-06-01"
   ]
  },
  {
   "cell_type": "code",
   "execution_count": 11,
   "metadata": {},
   "outputs": [
    {
     "name": "stdout",
     "output_type": "stream",
     "text": [
      "[2017-09-18 11:22:19,085] {__init__.py:57} INFO - Using executor SequentialExecutor\n",
      "[2017-09-18 11:22:19,660] {models.py:167} INFO - Filling up the DagBag from /Users/superizer/airflow/dags\n",
      "Traceback (most recent call last):\n",
      "  File \"/Users/superizer/anaconda/envs/tensorflow/lib/python3.6/site-packages/sqlalchemy/engine/base.py\", line 1182, in _execute_context\n",
      "    context)\n",
      "  File \"/Users/superizer/anaconda/envs/tensorflow/lib/python3.6/site-packages/sqlalchemy/engine/default.py\", line 470, in do_execute\n",
      "    cursor.execute(statement, parameters)\n",
      "sqlite3.OperationalError: no such table: task_instance\n",
      "\n",
      "The above exception was the direct cause of the following exception:\n",
      "\n",
      "Traceback (most recent call last):\n",
      "  File \"/Users/superizer/anaconda/envs/tensorflow/bin/airflow\", line 28, in <module>\n",
      "    args.func(args)\n",
      "  File \"/Users/superizer/anaconda/envs/tensorflow/lib/python3.6/site-packages/airflow/bin/cli.py\", line 585, in test\n",
      "    ti.run(ignore_task_deps=True, ignore_ti_state=True, test_mode=True)\n",
      "  File \"/Users/superizer/anaconda/envs/tensorflow/lib/python3.6/site-packages/airflow/utils/db.py\", line 53, in wrapper\n",
      "    result = func(*args, **kwargs)\n",
      "  File \"/Users/superizer/anaconda/envs/tensorflow/lib/python3.6/site-packages/airflow/models.py\", line 1249, in run\n",
      "    self.refresh_from_db(session=session, lock_for_update=True)\n",
      "  File \"/Users/superizer/anaconda/envs/tensorflow/lib/python3.6/site-packages/airflow/utils/db.py\", line 53, in wrapper\n",
      "    result = func(*args, **kwargs)\n",
      "  File \"/Users/superizer/anaconda/envs/tensorflow/lib/python3.6/site-packages/airflow/models.py\", line 991, in refresh_from_db\n",
      "    ti = qry.with_for_update().first()\n",
      "  File \"/Users/superizer/anaconda/envs/tensorflow/lib/python3.6/site-packages/sqlalchemy/orm/query.py\", line 2755, in first\n",
      "    ret = list(self[0:1])\n",
      "  File \"/Users/superizer/anaconda/envs/tensorflow/lib/python3.6/site-packages/sqlalchemy/orm/query.py\", line 2547, in __getitem__\n",
      "    return list(res)\n",
      "  File \"/Users/superizer/anaconda/envs/tensorflow/lib/python3.6/site-packages/sqlalchemy/orm/query.py\", line 2855, in __iter__\n",
      "    return self._execute_and_instances(context)\n",
      "  File \"/Users/superizer/anaconda/envs/tensorflow/lib/python3.6/site-packages/sqlalchemy/orm/query.py\", line 2878, in _execute_and_instances\n",
      "    result = conn.execute(querycontext.statement, self._params)\n",
      "  File \"/Users/superizer/anaconda/envs/tensorflow/lib/python3.6/site-packages/sqlalchemy/engine/base.py\", line 945, in execute\n",
      "    return meth(self, multiparams, params)\n",
      "  File \"/Users/superizer/anaconda/envs/tensorflow/lib/python3.6/site-packages/sqlalchemy/sql/elements.py\", line 263, in _execute_on_connection\n",
      "    return connection._execute_clauseelement(self, multiparams, params)\n",
      "  File \"/Users/superizer/anaconda/envs/tensorflow/lib/python3.6/site-packages/sqlalchemy/engine/base.py\", line 1053, in _execute_clauseelement\n",
      "    compiled_sql, distilled_params\n",
      "  File \"/Users/superizer/anaconda/envs/tensorflow/lib/python3.6/site-packages/sqlalchemy/engine/base.py\", line 1189, in _execute_context\n",
      "    context)\n",
      "  File \"/Users/superizer/anaconda/envs/tensorflow/lib/python3.6/site-packages/sqlalchemy/engine/base.py\", line 1402, in _handle_dbapi_exception\n",
      "    exc_info\n",
      "  File \"/Users/superizer/anaconda/envs/tensorflow/lib/python3.6/site-packages/sqlalchemy/util/compat.py\", line 203, in raise_from_cause\n",
      "    reraise(type(exception), exception, tb=exc_tb, cause=cause)\n",
      "  File \"/Users/superizer/anaconda/envs/tensorflow/lib/python3.6/site-packages/sqlalchemy/util/compat.py\", line 186, in reraise\n",
      "    raise value.with_traceback(tb)\n",
      "  File \"/Users/superizer/anaconda/envs/tensorflow/lib/python3.6/site-packages/sqlalchemy/engine/base.py\", line 1182, in _execute_context\n",
      "    context)\n",
      "  File \"/Users/superizer/anaconda/envs/tensorflow/lib/python3.6/site-packages/sqlalchemy/engine/default.py\", line 470, in do_execute\n",
      "    cursor.execute(statement, parameters)\n",
      "sqlalchemy.exc.OperationalError: (sqlite3.OperationalError) no such table: task_instance [SQL: 'SELECT task_instance.task_id AS task_instance_task_id, task_instance.dag_id AS task_instance_dag_id, task_instance.execution_date AS task_instance_execution_date, task_instance.start_date AS task_instance_start_date, task_instance.end_date AS task_instance_end_date, task_instance.duration AS task_instance_duration, task_instance.state AS task_instance_state, task_instance.try_number AS task_instance_try_number, task_instance.hostname AS task_instance_hostname, task_instance.unixname AS task_instance_unixname, task_instance.job_id AS task_instance_job_id, task_instance.pool AS task_instance_pool, task_instance.queue AS task_instance_queue, task_instance.priority_weight AS task_instance_priority_weight, task_instance.operator AS task_instance_operator, task_instance.queued_dttm AS task_instance_queued_dttm, task_instance.pid AS task_instance_pid \\nFROM task_instance \\nWHERE task_instance.dag_id = ? AND task_instance.task_id = ? AND task_instance.execution_date = ?\\n LIMIT ? OFFSET ?'] [parameters: ('tutorial', 'sleep', '2015-06-01 00:00:00.000000', 1, 0)]\n"
     ]
    }
   ],
   "source": [
    "# testing sleep\n",
    "!/Users/superizer/anaconda/envs/tensorflow/bin/airflow test tutorial sleep 2015-06-01"
   ]
  },
  {
   "cell_type": "code",
   "execution_count": null,
   "metadata": {
    "collapsed": true
   },
   "outputs": [],
   "source": []
  }
 ],
 "metadata": {
  "kernelspec": {
   "display_name": "Python 3",
   "language": "python",
   "name": "python3"
  },
  "language_info": {
   "codemirror_mode": {
    "name": "ipython",
    "version": 3
   },
   "file_extension": ".py",
   "mimetype": "text/x-python",
   "name": "python",
   "nbconvert_exporter": "python",
   "pygments_lexer": "ipython3",
   "version": "3.6.2"
  }
 },
 "nbformat": 4,
 "nbformat_minor": 2
}
