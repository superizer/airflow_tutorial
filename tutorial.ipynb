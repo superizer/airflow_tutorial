{
 "cells": [
  {
   "cell_type": "markdown",
   "metadata": {},
   "source": [
    "Code that goes along with the Airflow tutorial located at:\n",
    "https://github.com/airbnb/airflow/blob/master/airflow/example_dags/tutorial.py"
   ]
  },
  {
   "cell_type": "code",
   "execution_count": 1,
   "metadata": {},
   "outputs": [
    {
     "name": "stdout",
     "output_type": "stream",
     "text": [
      "[2017-09-19 10:55:57,857] {__init__.py:57} INFO - Using executor SequentialExecutor\n"
     ]
    }
   ],
   "source": [
    "import airflow"
   ]
  },
  {
   "cell_type": "code",
   "execution_count": 2,
   "metadata": {
    "collapsed": true
   },
   "outputs": [],
   "source": [
    "import tutorial # run tutorial code"
   ]
  },
  {
   "cell_type": "code",
   "execution_count": 3,
   "metadata": {},
   "outputs": [
    {
     "name": "stdout",
     "output_type": "stream",
     "text": [
      "[2017-09-19 10:56:00,199] {__init__.py:57} INFO - Using executor SequentialExecutor\n",
      "[2017-09-19 10:56:00,544] {models.py:167} INFO - Filling up the DagBag from /Users/superizer/airflow/dags\n",
      "\n",
      "\n",
      "-------------------------------------------------------------------\n",
      "DAGS\n",
      "-------------------------------------------------------------------\n",
      "example_bash_operator\n",
      "example_branch_dop_operator_v3\n",
      "example_branch_operator\n",
      "example_http_operator\n",
      "example_passing_params_via_test_command\n",
      "example_python_operator\n",
      "example_short_circuit_operator\n",
      "example_skip_dag\n",
      "example_subdag_operator\n",
      "example_subdag_operator.section-1\n",
      "example_subdag_operator.section-2\n",
      "example_trigger_controller_dag\n",
      "example_trigger_target_dag\n",
      "example_xcom\n",
      "latest_only\n",
      "latest_only_with_trigger\n",
      "test_utils\n",
      "tutorial\n",
      "\n"
     ]
    }
   ],
   "source": [
    "# print the list of active DAGs\n",
    "\n",
    "!/Users/superizer/anaconda/envs/tensorflow/bin/airflow list_dags"
   ]
  },
  {
   "cell_type": "code",
   "execution_count": 4,
   "metadata": {},
   "outputs": [
    {
     "name": "stdout",
     "output_type": "stream",
     "text": [
      "[2017-09-19 10:56:03,552] {__init__.py:57} INFO - Using executor SequentialExecutor\n",
      "[2017-09-19 10:56:03,834] {models.py:167} INFO - Filling up the DagBag from /Users/superizer/airflow/dags\n",
      "print_date\n",
      "sleep\n",
      "templated\n"
     ]
    }
   ],
   "source": [
    "# prints the list of tasks the \"tutorial\" dag_id\n",
    "\n",
    "!/Users/superizer/anaconda/envs/tensorflow/bin/airflow list_tasks tutorial"
   ]
  },
  {
   "cell_type": "code",
   "execution_count": 5,
   "metadata": {},
   "outputs": [
    {
     "name": "stdout",
     "output_type": "stream",
     "text": [
      "[2017-09-19 10:56:06,302] {__init__.py:57} INFO - Using executor SequentialExecutor\n",
      "[2017-09-19 10:56:06,606] {models.py:167} INFO - Filling up the DagBag from /Users/superizer/airflow/dags\n",
      "<Task(BashOperator): sleep>\n",
      "    <Task(BashOperator): print_date>\n",
      "<Task(BashOperator): templated>\n",
      "    <Task(BashOperator): print_date>\n"
     ]
    }
   ],
   "source": [
    "# prints the hierarchy of tasks in the tutorial DAG\n",
    "\n",
    "!/Users/superizer/anaconda/envs/tensorflow/bin/airflow list_tasks tutorial --tree"
   ]
  },
  {
   "cell_type": "code",
   "execution_count": 6,
   "metadata": {},
   "outputs": [
    {
     "name": "stdout",
     "output_type": "stream",
     "text": [
      "[2017-09-19 10:56:08,378] {__init__.py:57} INFO - Using executor SequentialExecutor\n",
      "[2017-09-19 10:56:08,686] {models.py:167} INFO - Filling up the DagBag from /Users/superizer/airflow/dags\n",
      "/Users/superizer/anaconda/envs/tensorflow/lib/python3.6/site-packages/airflow/models.py:1140: DeprecationWarning: generator 'get_dep_statuses' raised StopIteration\n",
      "  dep_context):\n",
      "/Users/superizer/anaconda/envs/tensorflow/lib/python3.6/site-packages/airflow/ti_deps/deps/base_ti_dep.py:94: DeprecationWarning: generator '_get_dep_statuses' raised StopIteration\n",
      "  for dep_status in self._get_dep_statuses(ti, session, dep_context):\n",
      "[2017-09-19 10:56:14,054] {models.py:1126} INFO - Dependencies all met for <TaskInstance: tutorial.print_date 2017-09-18 00:00:00 [None]>\n",
      "[2017-09-19 10:56:14,058] {models.py:1126} INFO - Dependencies all met for <TaskInstance: tutorial.print_date 2017-09-18 00:00:00 [None]>\n",
      "[2017-09-19 10:56:14,058] {models.py:1318} INFO - \n",
      "--------------------------------------------------------------------------------\n",
      "Starting attempt 1 of 2\n",
      "--------------------------------------------------------------------------------\n",
      "\n",
      "[2017-09-19 10:56:14,059] {models.py:1342} INFO - Executing <Task(BashOperator): print_date> on 2017-09-18 00:00:00\n",
      "[2017-09-19 10:56:14,079] {bash_operator.py:71} INFO - tmp dir root location: \n",
      "/var/folders/y9/klbk8cds3gd_l0tyq_rml_d00000gn/T\n",
      "[2017-09-19 10:56:14,080] {bash_operator.py:80} INFO - Temporary script location :/var/folders/y9/klbk8cds3gd_l0tyq_rml_d00000gn/T/airflowtmpig_64ri9//var/folders/y9/klbk8cds3gd_l0tyq_rml_d00000gn/T/airflowtmpig_64ri9/print_datef5pkvcn_\n",
      "[2017-09-19 10:56:14,080] {bash_operator.py:81} INFO - Running command: date\n",
      "[2017-09-19 10:56:14,085] {bash_operator.py:90} INFO - Output:\n",
      "[2017-09-19 10:56:14,092] {bash_operator.py:94} INFO - Tue Sep 19 10:56:14 +07 2017\n",
      "[2017-09-19 10:56:14,092] {bash_operator.py:97} INFO - Command exited with return code 0\n"
     ]
    }
   ],
   "source": [
    "# command layout: command subcommand dag_id task_id date\n",
    "\n",
    "# testing print_date\n",
    "!/Users/superizer/anaconda/envs/tensorflow/bin/airflow test tutorial print_date 2017-09-18"
   ]
  },
  {
   "cell_type": "code",
   "execution_count": 7,
   "metadata": {},
   "outputs": [
    {
     "name": "stdout",
     "output_type": "stream",
     "text": [
      "[2017-09-19 10:56:18,925] {__init__.py:57} INFO - Using executor SequentialExecutor\n",
      "[2017-09-19 10:56:19,233] {models.py:167} INFO - Filling up the DagBag from /Users/superizer/airflow/dags\n",
      "/Users/superizer/anaconda/envs/tensorflow/lib/python3.6/site-packages/airflow/models.py:1140: DeprecationWarning: generator 'get_dep_statuses' raised StopIteration\n",
      "  dep_context):\n",
      "/Users/superizer/anaconda/envs/tensorflow/lib/python3.6/site-packages/airflow/ti_deps/deps/base_ti_dep.py:94: DeprecationWarning: generator '_get_dep_statuses' raised StopIteration\n",
      "  for dep_status in self._get_dep_statuses(ti, session, dep_context):\n",
      "[2017-09-19 10:56:24,572] {models.py:1126} INFO - Dependencies all met for <TaskInstance: tutorial.sleep 2015-06-01 00:00:00 [None]>\n",
      "[2017-09-19 10:56:24,575] {models.py:1126} INFO - Dependencies all met for <TaskInstance: tutorial.sleep 2015-06-01 00:00:00 [None]>\n",
      "[2017-09-19 10:56:24,575] {models.py:1318} INFO - \n",
      "--------------------------------------------------------------------------------\n",
      "Starting attempt 1 of 2\n",
      "--------------------------------------------------------------------------------\n",
      "\n",
      "[2017-09-19 10:56:24,576] {models.py:1342} INFO - Executing <Task(BashOperator): sleep> on 2015-06-01 00:00:00\n",
      "[2017-09-19 10:56:24,591] {bash_operator.py:71} INFO - tmp dir root location: \n",
      "/var/folders/y9/klbk8cds3gd_l0tyq_rml_d00000gn/T\n",
      "[2017-09-19 10:56:24,592] {bash_operator.py:80} INFO - Temporary script location :/var/folders/y9/klbk8cds3gd_l0tyq_rml_d00000gn/T/airflowtmp8vmzb6_l//var/folders/y9/klbk8cds3gd_l0tyq_rml_d00000gn/T/airflowtmp8vmzb6_l/sleep9cenigys\n",
      "[2017-09-19 10:56:24,592] {bash_operator.py:81} INFO - Running command: sleep 5\n",
      "[2017-09-19 10:56:24,598] {bash_operator.py:90} INFO - Output:\n",
      "[2017-09-19 10:56:29,611] {bash_operator.py:97} INFO - Command exited with return code 0\n"
     ]
    }
   ],
   "source": [
    "# testing sleep\n",
    "!/Users/superizer/anaconda/envs/tensorflow/bin/airflow test tutorial sleep 2015-06-01"
   ]
  },
  {
   "cell_type": "code",
   "execution_count": 8,
   "metadata": {},
   "outputs": [
    {
     "name": "stdout",
     "output_type": "stream",
     "text": [
      "[2017-09-19 10:56:30,304] {__init__.py:57} INFO - Using executor SequentialExecutor\n",
      "[2017-09-19 10:56:30,603] {models.py:167} INFO - Filling up the DagBag from /Users/superizer/airflow/dags\n",
      "/Users/superizer/anaconda/envs/tensorflow/lib/python3.6/site-packages/airflow/models.py:1140: DeprecationWarning: generator 'get_dep_statuses' raised StopIteration\n",
      "  dep_context):\n",
      "/Users/superizer/anaconda/envs/tensorflow/lib/python3.6/site-packages/airflow/ti_deps/deps/base_ti_dep.py:94: DeprecationWarning: generator '_get_dep_statuses' raised StopIteration\n",
      "  for dep_status in self._get_dep_statuses(ti, session, dep_context):\n",
      "[2017-09-19 10:56:35,952] {models.py:1126} INFO - Dependencies all met for <TaskInstance: tutorial.templated 2015-06-01 00:00:00 [None]>\n",
      "[2017-09-19 10:56:35,955] {models.py:1126} INFO - Dependencies all met for <TaskInstance: tutorial.templated 2015-06-01 00:00:00 [None]>\n",
      "[2017-09-19 10:56:35,955] {models.py:1318} INFO - \n",
      "--------------------------------------------------------------------------------\n",
      "Starting attempt 1 of 2\n",
      "--------------------------------------------------------------------------------\n",
      "\n",
      "[2017-09-19 10:56:35,955] {models.py:1342} INFO - Executing <Task(BashOperator): templated> on 2015-06-01 00:00:00\n",
      "[2017-09-19 10:56:35,978] {bash_operator.py:71} INFO - tmp dir root location: \n",
      "/var/folders/y9/klbk8cds3gd_l0tyq_rml_d00000gn/T\n",
      "[2017-09-19 10:56:35,979] {bash_operator.py:80} INFO - Temporary script location :/var/folders/y9/klbk8cds3gd_l0tyq_rml_d00000gn/T/airflowtmp6d7vb_l_//var/folders/y9/klbk8cds3gd_l0tyq_rml_d00000gn/T/airflowtmp6d7vb_l_/templateda52upmpf\n",
      "[2017-09-19 10:56:35,979] {bash_operator.py:81} INFO - Running command: \n",
      "\n",
      "    echo \"2015-06-01\"\n",
      "    echo \"2015-06-08\"\n",
      "    echo \"Parameter I passed in\"\n",
      "\n",
      "    echo \"2015-06-01\"\n",
      "    echo \"2015-06-08\"\n",
      "    echo \"Parameter I passed in\"\n",
      "\n",
      "    echo \"2015-06-01\"\n",
      "    echo \"2015-06-08\"\n",
      "    echo \"Parameter I passed in\"\n",
      "\n",
      "    echo \"2015-06-01\"\n",
      "    echo \"2015-06-08\"\n",
      "    echo \"Parameter I passed in\"\n",
      "\n",
      "    echo \"2015-06-01\"\n",
      "    echo \"2015-06-08\"\n",
      "    echo \"Parameter I passed in\"\n",
      "\n",
      "[2017-09-19 10:56:35,987] {bash_operator.py:90} INFO - Output:\n",
      "[2017-09-19 10:56:35,990] {bash_operator.py:94} INFO - 2015-06-01\n",
      "[2017-09-19 10:56:35,990] {bash_operator.py:94} INFO - 2015-06-08\n",
      "[2017-09-19 10:56:35,990] {bash_operator.py:94} INFO - Parameter I passed in\n",
      "[2017-09-19 10:56:35,990] {bash_operator.py:94} INFO - 2015-06-01\n",
      "[2017-09-19 10:56:35,990] {bash_operator.py:94} INFO - 2015-06-08\n",
      "[2017-09-19 10:56:35,990] {bash_operator.py:94} INFO - Parameter I passed in\n",
      "[2017-09-19 10:56:35,991] {bash_operator.py:94} INFO - 2015-06-01\n",
      "[2017-09-19 10:56:35,991] {bash_operator.py:94} INFO - 2015-06-08\n",
      "[2017-09-19 10:56:35,991] {bash_operator.py:94} INFO - Parameter I passed in\n",
      "[2017-09-19 10:56:35,991] {bash_operator.py:94} INFO - 2015-06-01\n",
      "[2017-09-19 10:56:35,991] {bash_operator.py:94} INFO - 2015-06-08\n",
      "[2017-09-19 10:56:35,991] {bash_operator.py:94} INFO - Parameter I passed in\n",
      "[2017-09-19 10:56:35,991] {bash_operator.py:94} INFO - 2015-06-01\n",
      "[2017-09-19 10:56:35,991] {bash_operator.py:94} INFO - 2015-06-08\n",
      "[2017-09-19 10:56:35,991] {bash_operator.py:94} INFO - Parameter I passed in\n",
      "[2017-09-19 10:56:35,991] {bash_operator.py:97} INFO - Command exited with return code 0\n"
     ]
    }
   ],
   "source": [
    "# testing templated\n",
    "!/Users/superizer/anaconda/envs/tensorflow/bin/airflow test tutorial templated 2015-06-01"
   ]
  },
  {
   "cell_type": "code",
   "execution_count": null,
   "metadata": {
    "collapsed": true
   },
   "outputs": [],
   "source": []
  }
 ],
 "metadata": {
  "kernelspec": {
   "display_name": "Python 3",
   "language": "python",
   "name": "python3"
  },
  "language_info": {
   "codemirror_mode": {
    "name": "ipython",
    "version": 3
   },
   "file_extension": ".py",
   "mimetype": "text/x-python",
   "name": "python",
   "nbconvert_exporter": "python",
   "pygments_lexer": "ipython3",
   "version": "3.6.2"
  }
 },
 "nbformat": 4,
 "nbformat_minor": 2
}
