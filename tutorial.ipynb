{
 "cells": [
  {
   "cell_type": "markdown",
   "metadata": {},
   "source": [
    "Code that goes along with the Airflow tutorial located at:\n",
    "https://github.com/airbnb/airflow/blob/master/airflow/example_dags/tutorial.py"
   ]
  },
  {
   "cell_type": "code",
   "execution_count": 1,
   "metadata": {},
   "outputs": [
    {
     "name": "stdout",
     "output_type": "stream",
     "text": [
      "[2017-09-20 11:06:45,810] {__init__.py:57} INFO - Using executor SequentialExecutor\n"
     ]
    }
   ],
   "source": [
    "import airflow"
   ]
  },
  {
   "cell_type": "code",
   "execution_count": 2,
   "metadata": {
    "collapsed": true
   },
   "outputs": [],
   "source": [
    "import tutorial # run tutorial code"
   ]
  },
  {
   "cell_type": "code",
   "execution_count": 3,
   "metadata": {},
   "outputs": [
    {
     "name": "stdout",
     "output_type": "stream",
     "text": [
      "[2017-09-20 11:06:47,402] {__init__.py:57} INFO - Using executor SequentialExecutor\n",
      "[2017-09-20 11:06:47,731] {models.py:167} INFO - Filling up the DagBag from /Users/superizer/airflow/dags\n",
      "\n",
      "\n",
      "-------------------------------------------------------------------\n",
      "DAGS\n",
      "-------------------------------------------------------------------\n",
      "example_bash_operator\n",
      "example_branch_dop_operator_v3\n",
      "example_branch_operator\n",
      "example_http_operator\n",
      "example_passing_params_via_test_command\n",
      "example_python_operator\n",
      "example_short_circuit_operator\n",
      "example_skip_dag\n",
      "example_subdag_operator\n",
      "example_subdag_operator.section-1\n",
      "example_subdag_operator.section-2\n",
      "example_trigger_controller_dag\n",
      "example_trigger_target_dag\n",
      "example_xcom\n",
      "latest_only\n",
      "latest_only_with_trigger\n",
      "test_utils\n",
      "tutorial\n",
      "\n"
     ]
    }
   ],
   "source": [
    "# print the list of active DAGs\n",
    "\n",
    "!/Users/superizer/anaconda/envs/tensorflow/bin/airflow list_dags"
   ]
  },
  {
   "cell_type": "code",
   "execution_count": 4,
   "metadata": {},
   "outputs": [
    {
     "name": "stdout",
     "output_type": "stream",
     "text": [
      "[2017-09-20 11:06:48,835] {__init__.py:57} INFO - Using executor SequentialExecutor\n",
      "[2017-09-20 11:06:49,140] {models.py:167} INFO - Filling up the DagBag from /Users/superizer/airflow/dags\n",
      "print_date\n",
      "sleep\n",
      "templated\n"
     ]
    }
   ],
   "source": [
    "# prints the list of tasks the \"tutorial\" dag_id\n",
    "\n",
    "!/Users/superizer/anaconda/envs/tensorflow/bin/airflow list_tasks tutorial"
   ]
  },
  {
   "cell_type": "code",
   "execution_count": 5,
   "metadata": {},
   "outputs": [
    {
     "name": "stdout",
     "output_type": "stream",
     "text": [
      "[2017-09-20 11:06:51,798] {__init__.py:57} INFO - Using executor SequentialExecutor\n",
      "[2017-09-20 11:06:52,100] {models.py:167} INFO - Filling up the DagBag from /Users/superizer/airflow/dags\n",
      "<Task(BashOperator): sleep>\n",
      "    <Task(BashOperator): print_date>\n",
      "<Task(BashOperator): templated>\n",
      "    <Task(BashOperator): print_date>\n"
     ]
    }
   ],
   "source": [
    "# prints the hierarchy of tasks in the tutorial DAG\n",
    "\n",
    "!/Users/superizer/anaconda/envs/tensorflow/bin/airflow list_tasks tutorial --tree"
   ]
  },
  {
   "cell_type": "code",
   "execution_count": 6,
   "metadata": {},
   "outputs": [
    {
     "name": "stdout",
     "output_type": "stream",
     "text": [
      "[2017-09-20 11:06:53,745] {__init__.py:57} INFO - Using executor SequentialExecutor\n",
      "[2017-09-20 11:06:54,046] {models.py:167} INFO - Filling up the DagBag from /Users/superizer/airflow/dags\n",
      "/Users/superizer/anaconda/envs/tensorflow/lib/python3.6/site-packages/airflow/models.py:1140: DeprecationWarning: generator 'get_dep_statuses' raised StopIteration\n",
      "  dep_context):\n",
      "/Users/superizer/anaconda/envs/tensorflow/lib/python3.6/site-packages/airflow/ti_deps/deps/base_ti_dep.py:94: DeprecationWarning: generator '_get_dep_statuses' raised StopIteration\n",
      "  for dep_status in self._get_dep_statuses(ti, session, dep_context):\n",
      "[2017-09-20 11:06:59,406] {models.py:1126} INFO - Dependencies all met for <TaskInstance: tutorial.print_date 2017-09-18 00:00:00 [None]>\n",
      "[2017-09-20 11:06:59,410] {models.py:1126} INFO - Dependencies all met for <TaskInstance: tutorial.print_date 2017-09-18 00:00:00 [None]>\n",
      "[2017-09-20 11:06:59,410] {models.py:1318} INFO - \n",
      "--------------------------------------------------------------------------------\n",
      "Starting attempt 1 of 2\n",
      "--------------------------------------------------------------------------------\n",
      "\n",
      "[2017-09-20 11:06:59,411] {models.py:1342} INFO - Executing <Task(BashOperator): print_date> on 2017-09-18 00:00:00\n",
      "[2017-09-20 11:06:59,429] {bash_operator.py:71} INFO - tmp dir root location: \n",
      "/var/folders/y9/klbk8cds3gd_l0tyq_rml_d00000gn/T\n",
      "[2017-09-20 11:06:59,430] {bash_operator.py:80} INFO - Temporary script location :/var/folders/y9/klbk8cds3gd_l0tyq_rml_d00000gn/T/airflowtmp67zow9_m//var/folders/y9/klbk8cds3gd_l0tyq_rml_d00000gn/T/airflowtmp67zow9_m/print_date3ealmza5\n",
      "[2017-09-20 11:06:59,430] {bash_operator.py:81} INFO - Running command: date\n",
      "[2017-09-20 11:06:59,435] {bash_operator.py:90} INFO - Output:\n",
      "[2017-09-20 11:06:59,443] {bash_operator.py:94} INFO - Wed Sep 20 11:06:59 +07 2017\n",
      "[2017-09-20 11:06:59,444] {bash_operator.py:97} INFO - Command exited with return code 0\n"
     ]
    }
   ],
   "source": [
    "# command layout: command subcommand dag_id task_id date\n",
    "\n",
    "# testing print_date\n",
    "!/Users/superizer/anaconda/envs/tensorflow/bin/airflow test tutorial print_date 2017-09-18"
   ]
  },
  {
   "cell_type": "code",
   "execution_count": 7,
   "metadata": {},
   "outputs": [
    {
     "name": "stdout",
     "output_type": "stream",
     "text": [
      "[2017-09-20 11:07:01,034] {__init__.py:57} INFO - Using executor SequentialExecutor\n",
      "[2017-09-20 11:07:01,349] {models.py:167} INFO - Filling up the DagBag from /Users/superizer/airflow/dags\n",
      "/Users/superizer/anaconda/envs/tensorflow/lib/python3.6/site-packages/airflow/models.py:1140: DeprecationWarning: generator 'get_dep_statuses' raised StopIteration\n",
      "  dep_context):\n",
      "/Users/superizer/anaconda/envs/tensorflow/lib/python3.6/site-packages/airflow/ti_deps/deps/base_ti_dep.py:94: DeprecationWarning: generator '_get_dep_statuses' raised StopIteration\n",
      "  for dep_status in self._get_dep_statuses(ti, session, dep_context):\n",
      "[2017-09-20 11:07:06,698] {models.py:1126} INFO - Dependencies all met for <TaskInstance: tutorial.sleep 2015-06-01 00:00:00 [None]>\n",
      "[2017-09-20 11:07:06,701] {models.py:1126} INFO - Dependencies all met for <TaskInstance: tutorial.sleep 2015-06-01 00:00:00 [None]>\n",
      "[2017-09-20 11:07:06,701] {models.py:1318} INFO - \n",
      "--------------------------------------------------------------------------------\n",
      "Starting attempt 1 of 2\n",
      "--------------------------------------------------------------------------------\n",
      "\n",
      "[2017-09-20 11:07:06,702] {models.py:1342} INFO - Executing <Task(BashOperator): sleep> on 2015-06-01 00:00:00\n",
      "[2017-09-20 11:07:06,717] {bash_operator.py:71} INFO - tmp dir root location: \n",
      "/var/folders/y9/klbk8cds3gd_l0tyq_rml_d00000gn/T\n",
      "[2017-09-20 11:07:06,718] {bash_operator.py:80} INFO - Temporary script location :/var/folders/y9/klbk8cds3gd_l0tyq_rml_d00000gn/T/airflowtmphvjfn163//var/folders/y9/klbk8cds3gd_l0tyq_rml_d00000gn/T/airflowtmphvjfn163/sleep2gylwrn3\n",
      "[2017-09-20 11:07:06,719] {bash_operator.py:81} INFO - Running command: sleep 5\n",
      "[2017-09-20 11:07:06,727] {bash_operator.py:90} INFO - Output:\n",
      "[2017-09-20 11:07:11,738] {bash_operator.py:97} INFO - Command exited with return code 0\n"
     ]
    }
   ],
   "source": [
    "# testing sleep\n",
    "!/Users/superizer/anaconda/envs/tensorflow/bin/airflow test tutorial sleep 2015-06-01"
   ]
  },
  {
   "cell_type": "code",
   "execution_count": 8,
   "metadata": {},
   "outputs": [
    {
     "name": "stdout",
     "output_type": "stream",
     "text": [
      "[2017-09-20 11:07:12,375] {__init__.py:57} INFO - Using executor SequentialExecutor\n",
      "[2017-09-20 11:07:12,663] {models.py:167} INFO - Filling up the DagBag from /Users/superizer/airflow/dags\n",
      "/Users/superizer/anaconda/envs/tensorflow/lib/python3.6/site-packages/airflow/ti_deps/deps/base_ti_dep.py:94: DeprecationWarning: generator '_get_dep_statuses' raised StopIteration\n",
      "  for dep_status in self._get_dep_statuses(ti, session, dep_context):\n",
      "/Users/superizer/anaconda/envs/tensorflow/lib/python3.6/site-packages/airflow/models.py:1140: DeprecationWarning: generator 'get_dep_statuses' raised StopIteration\n",
      "  dep_context):\n",
      "[2017-09-20 11:07:18,008] {models.py:1126} INFO - Dependencies all met for <TaskInstance: tutorial.templated 2015-06-01 00:00:00 [None]>\n",
      "[2017-09-20 11:07:18,011] {models.py:1126} INFO - Dependencies all met for <TaskInstance: tutorial.templated 2015-06-01 00:00:00 [None]>\n",
      "[2017-09-20 11:07:18,011] {models.py:1318} INFO - \n",
      "--------------------------------------------------------------------------------\n",
      "Starting attempt 1 of 2\n",
      "--------------------------------------------------------------------------------\n",
      "\n",
      "[2017-09-20 11:07:18,012] {models.py:1342} INFO - Executing <Task(BashOperator): templated> on 2015-06-01 00:00:00\n",
      "[2017-09-20 11:07:18,036] {bash_operator.py:71} INFO - tmp dir root location: \n",
      "/var/folders/y9/klbk8cds3gd_l0tyq_rml_d00000gn/T\n",
      "[2017-09-20 11:07:18,037] {bash_operator.py:80} INFO - Temporary script location :/var/folders/y9/klbk8cds3gd_l0tyq_rml_d00000gn/T/airflowtmp20h6ndwc//var/folders/y9/klbk8cds3gd_l0tyq_rml_d00000gn/T/airflowtmp20h6ndwc/templatedgtsitvb2\n",
      "[2017-09-20 11:07:18,037] {bash_operator.py:81} INFO - Running command: \n",
      "\n",
      "    echo \"2015-06-01\"\n",
      "    echo \"2015-06-08\"\n",
      "    echo \"Parameter I passed in\"\n",
      "\n",
      "    echo \"2015-06-01\"\n",
      "    echo \"2015-06-08\"\n",
      "    echo \"Parameter I passed in\"\n",
      "\n",
      "    echo \"2015-06-01\"\n",
      "    echo \"2015-06-08\"\n",
      "    echo \"Parameter I passed in\"\n",
      "\n",
      "    echo \"2015-06-01\"\n",
      "    echo \"2015-06-08\"\n",
      "    echo \"Parameter I passed in\"\n",
      "\n",
      "    echo \"2015-06-01\"\n",
      "    echo \"2015-06-08\"\n",
      "    echo \"Parameter I passed in\"\n",
      "\n",
      "[2017-09-20 11:07:18,042] {bash_operator.py:90} INFO - Output:\n",
      "[2017-09-20 11:07:18,044] {bash_operator.py:94} INFO - 2015-06-01\n",
      "[2017-09-20 11:07:18,044] {bash_operator.py:94} INFO - 2015-06-08\n",
      "[2017-09-20 11:07:18,044] {bash_operator.py:94} INFO - Parameter I passed in\n",
      "[2017-09-20 11:07:18,044] {bash_operator.py:94} INFO - 2015-06-01\n",
      "[2017-09-20 11:07:18,044] {bash_operator.py:94} INFO - 2015-06-08\n",
      "[2017-09-20 11:07:18,044] {bash_operator.py:94} INFO - Parameter I passed in\n",
      "[2017-09-20 11:07:18,044] {bash_operator.py:94} INFO - 2015-06-01\n",
      "[2017-09-20 11:07:18,045] {bash_operator.py:94} INFO - 2015-06-08\n",
      "[2017-09-20 11:07:18,045] {bash_operator.py:94} INFO - Parameter I passed in\n",
      "[2017-09-20 11:07:18,045] {bash_operator.py:94} INFO - 2015-06-01\n",
      "[2017-09-20 11:07:18,045] {bash_operator.py:94} INFO - 2015-06-08\n",
      "[2017-09-20 11:07:18,045] {bash_operator.py:94} INFO - Parameter I passed in\n",
      "[2017-09-20 11:07:18,045] {bash_operator.py:94} INFO - 2015-06-01\n",
      "[2017-09-20 11:07:18,045] {bash_operator.py:94} INFO - 2015-06-08\n",
      "[2017-09-20 11:07:18,045] {bash_operator.py:94} INFO - Parameter I passed in\n",
      "[2017-09-20 11:07:18,045] {bash_operator.py:97} INFO - Command exited with return code 0\n"
     ]
    }
   ],
   "source": [
    "# testing templated\n",
    "!/Users/superizer/anaconda/envs/tensorflow/bin/airflow test tutorial templated 2015-06-01"
   ]
  },
  {
   "cell_type": "code",
   "execution_count": 12,
   "metadata": {},
   "outputs": [
    {
     "name": "stdout",
     "output_type": "stream",
     "text": [
      "[2017-09-20 11:12:24,271] {__init__.py:57} INFO - Using executor SequentialExecutor\n",
      "  ____________       _____________\n",
      " ____    |__( )_________  __/__  /________      __\n",
      "____  /| |_  /__  ___/_  /_ __  /_  __ \\_ | /| / /\n",
      "___  ___ |  / _  /   _  __/ _  / / /_/ /_ |/ |/ /\n",
      " _/_/  |_/_/  /_/    /_/    /_/  \\____/____/|__/\n",
      " \n",
      "/Users/superizer/anaconda/envs/tensorflow/lib/python3.6/site-packages/flask/exthook.py:71: ExtDeprecationWarning: Importing flask.ext.cache is deprecated, use flask_cache instead.\n",
      "  .format(x=modname), ExtDeprecationWarning\n",
      "[2017-09-20 11:12:25,375] [5798] {models.py:167} INFO - Filling up the DagBag from /Users/superizer/airflow/dags\n",
      "Running the Gunicorn Server with:\n",
      "Workers: 4 sync\n",
      "Host: 0.0.0.0:8080\n",
      "Timeout: 120\n",
      "Logfiles: - -\n",
      "=================================================================            \n",
      "[2017-09-20 11:12:26,862] {__init__.py:57} INFO - Using executor SequentialExecutor\n",
      "[2017-09-20 11:12:27 +0700] [5807] [INFO] Starting gunicorn 19.3.0\n",
      "[2017-09-20 11:12:27 +0700] [5807] [INFO] Listening at: http://0.0.0.0:8080 (5807)\n",
      "[2017-09-20 11:12:27 +0700] [5807] [INFO] Using worker: sync\n",
      "[2017-09-20 11:12:27 +0700] [5810] [INFO] Booting worker with pid: 5810\n",
      "[2017-09-20 11:12:27 +0700] [5811] [INFO] Booting worker with pid: 5811\n",
      "/Users/superizer/anaconda/envs/tensorflow/lib/python3.6/site-packages/flask/exthook.py:71: ExtDeprecationWarning: Importing flask.ext.cache is deprecated, use flask_cache instead.\n",
      "  .format(x=modname), ExtDeprecationWarning\n",
      "/Users/superizer/anaconda/envs/tensorflow/lib/python3.6/site-packages/flask/exthook.py:71: ExtDeprecationWarning: Importing flask.ext.cache is deprecated, use flask_cache instead.\n",
      "  .format(x=modname), ExtDeprecationWarning\n",
      "[2017-09-20 11:12:27 +0700] [5812] [INFO] Booting worker with pid: 5812\n",
      "/Users/superizer/anaconda/envs/tensorflow/lib/python3.6/site-packages/flask/exthook.py:71: ExtDeprecationWarning: Importing flask.ext.cache is deprecated, use flask_cache instead.\n",
      "  .format(x=modname), ExtDeprecationWarning\n",
      "[2017-09-20 11:12:27 +0700] [5813] [INFO] Booting worker with pid: 5813\n",
      "/Users/superizer/anaconda/envs/tensorflow/lib/python3.6/site-packages/flask/exthook.py:71: ExtDeprecationWarning: Importing flask.ext.cache is deprecated, use flask_cache instead.\n",
      "  .format(x=modname), ExtDeprecationWarning\n",
      "[2017-09-20 11:12:27,566] [5810] {models.py:167} INFO - Filling up the DagBag from /Users/superizer/airflow/dags\n",
      "[2017-09-20 11:12:27,604] [5811] {models.py:167} INFO - Filling up the DagBag from /Users/superizer/airflow/dags\n",
      "[2017-09-20 11:12:27,734] [5812] {models.py:167} INFO - Filling up the DagBag from /Users/superizer/airflow/dags\n",
      "[2017-09-20 11:12:27,814] [5813] {models.py:167} INFO - Filling up the DagBag from /Users/superizer/airflow/dags\n",
      "^C\n",
      "[2017-09-20 11:12:40 +0700] [5807] [INFO] Handling signal: int\n",
      "[2017-09-20 11:12:40 +0700] [5811] [INFO] Worker exiting (pid: 5811)\n",
      "[2017-09-20 11:12:40 +0700] [5813] [INFO] Worker exiting (pid: 5813)\n",
      "[2017-09-20 11:12:40 +0700] [5812] [INFO] Worker exiting (pid: 5812)\n",
      "[2017-09-20 11:12:40 +0700] [5810] [INFO] Worker exiting (pid: 5810)\n"
     ]
    }
   ],
   "source": [
    "!/Users/superizer/anaconda/envs/tensorflow/bin/airflow webserver -p 8080"
   ]
  },
  {
   "cell_type": "code",
   "execution_count": 13,
   "metadata": {},
   "outputs": [
    {
     "data": {
      "text/html": [
       "<style>.container { width:100% !important; }</style>"
      ],
      "text/plain": [
       "<IPython.core.display.HTML object>"
      ]
     },
     "metadata": {},
     "output_type": "display_data"
    },
    {
     "data": {
      "text/html": [
       "<iframe width=100% height=500px src=\"http://localhost:8080/admin/\">"
      ],
      "text/plain": [
       "<IPython.core.display.HTML object>"
      ]
     },
     "metadata": {},
     "output_type": "display_data"
    }
   ],
   "source": [
    "from IPython.core.display import display, HTML\n",
    "display(HTML(\"<style>.container { width:100% !important; }</style>\"))\n",
    "\n",
    "from IPython.display import clear_output, Image, display, HTML\n",
    "\n",
    "html = '<iframe width=100% height=500px src=\"http://localhost:8080/admin/\">'\n",
    "display(HTML(html))"
   ]
  },
  {
   "cell_type": "code",
   "execution_count": 11,
   "metadata": {
    "collapsed": true
   },
   "outputs": [],
   "source": [
    "import gunicorn"
   ]
  },
  {
   "cell_type": "code",
   "execution_count": null,
   "metadata": {
    "collapsed": true
   },
   "outputs": [],
   "source": []
  },
  {
   "cell_type": "code",
   "execution_count": null,
   "metadata": {
    "collapsed": true
   },
   "outputs": [],
   "source": []
  }
 ],
 "metadata": {
  "kernelspec": {
   "display_name": "Python 3",
   "language": "python",
   "name": "python3"
  },
  "language_info": {
   "codemirror_mode": {
    "name": "ipython",
    "version": 3
   },
   "file_extension": ".py",
   "mimetype": "text/x-python",
   "name": "python",
   "nbconvert_exporter": "python",
   "pygments_lexer": "ipython3",
   "version": "3.6.2"
  }
 },
 "nbformat": 4,
 "nbformat_minor": 2
}
